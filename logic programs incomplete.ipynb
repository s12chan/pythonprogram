{
 "cells": [
  {
   "cell_type": "code",
   "execution_count": 2,
   "metadata": {},
   "outputs": [
    {
     "name": "stdout",
     "output_type": "stream",
     "text": [
      "enter a number:153\n",
      "153 is armstrong number\n"
     ]
    }
   ],
   "source": [
    "num=int(input(\"enter a number:\"))\n",
    "sum=0\n",
    "temp=num\n",
    "while temp>0:\n",
    "    digit=temp%10\n",
    "    sum=sum+(digit*digit*digit)\n",
    "    temp//=10\n",
    "if num==sum:\n",
    "        print(num,\"is armstrong number\")\n",
    "else :\n",
    "        print(num,\"is not armstrongnumber\")"
   ]
  },
  {
   "cell_type": "code",
   "execution_count": null,
   "metadata": {},
   "outputs": [],
   "source": [
    "a=10\n",
    "b=20\n",
    "if a>b:\n",
    "    print(a)\n",
    "else :\n",
    "    print(b)\n",
    " \n",
    "    \n",
    "\n"
   ]
  },
  {
   "cell_type": "code",
   "execution_count": null,
   "metadata": {},
   "outputs": [],
   "source": [
    "num=int(input(\"enter a number:\"))\n",
    "sum=0\n",
    "rev=0\n",
    "while \n",
    "rev=num%10\n",
    "\n"
   ]
  },
  {
   "cell_type": "code",
   "execution_count": 1,
   "metadata": {},
   "outputs": [
    {
     "ename": "SyntaxError",
     "evalue": "invalid syntax (<ipython-input-1-38f8c8d3cf99>, line 7)",
     "output_type": "error",
     "traceback": [
      "\u001b[1;36m  File \u001b[1;32m\"<ipython-input-1-38f8c8d3cf99>\"\u001b[1;36m, line \u001b[1;32m7\u001b[0m\n\u001b[1;33m    elif m==baddata:\u001b[0m\n\u001b[1;37m       ^\u001b[0m\n\u001b[1;31mSyntaxError\u001b[0m\u001b[1;31m:\u001b[0m invalid syntax\n"
     ]
    }
   ],
   "source": [
    "m=int(input(\"enter the number\"))\n",
    "x=[1,2,3,4,5,6,7,8,9,10]\n",
    "s=i=0\n",
    "if m==x:\n",
    "    s=++i\n",
    "    print(s,\"is the count\")\n",
    "    elif m==baddata:\n",
    "        print(\"invalid\")\n",
    "        else :\n",
    "            sum=sum+m;\n",
    "            total=sum/s\n",
    "            "
   ]
  },
  {
   "cell_type": "markdown",
   "metadata": {},
   "source": [
    "m=int(input(\"enter the number:\"))\n",
    "s=0\n",
    "if m<=5000:\n",
    "s=++i\n",
    "p\n"
   ]
  },
  {
   "cell_type": "code",
   "execution_count": null,
   "metadata": {},
   "outputs": [],
   "source": [
    "m=int(input(\"enter the number\"))\n",
    "n=int(input(\"enter the number\"))\n",
    "if m<=3000 and n<=2000:\n",
    "    print(m,n)\n",
    "    sum=m+n\n",
    "    average=sum/2\n",
    "    \n",
    "    \n",
    "    "
   ]
  }
 ],
 "metadata": {
  "kernelspec": {
   "display_name": "Python 3",
   "language": "python",
   "name": "python3"
  },
  "language_info": {
   "codemirror_mode": {
    "name": "ipython",
    "version": 3
   },
   "file_extension": ".py",
   "mimetype": "text/x-python",
   "name": "python",
   "nbconvert_exporter": "python",
   "pygments_lexer": "ipython3",
   "version": "3.6.5"
  }
 },
 "nbformat": 4,
 "nbformat_minor": 2
}
